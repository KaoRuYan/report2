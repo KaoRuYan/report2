{
  "nbformat": 4,
  "nbformat_minor": 0,
  "metadata": {
    "colab": {
      "provenance": []
    },
    "kernelspec": {
      "name": "python3",
      "display_name": "Python 3"
    },
    "language_info": {
      "name": "python"
    }
  },
  "cells": [
    {
      "cell_type": "code",
      "execution_count": 2,
      "metadata": {
        "colab": {
          "base_uri": "https://localhost:8080/"
        },
        "id": "4OMqDY6NpeD5",
        "outputId": "a668c926-d6f7-49b0-8cc1-48ae1314ace7"
      },
      "outputs": [
        {
          "output_type": "stream",
          "name": "stdout",
          "text": [
            "請輸入你要求的一元二次方程的三個參數a、b、c,用逗號隔開12,13,13\n",
            "沒有結果\n"
          ]
        }
      ],
      "source": [
        "import math\n",
        "s=input(\"請輸入你要求的一元二次方程的三個參數a、b、c,用逗號隔開\")\n",
        "a,b,c=s.split(',')\n",
        "a=int(a)\n",
        "b=int(b)\n",
        "c=int(c)\n",
        "if a==0:\n",
        "    print(-c/b)\n",
        "elif b*b-4*a*c<0:\n",
        "    print(\"沒有結果\")\n",
        "elif b*b-4*a*c==0:\n",
        "    print(-b/(2*a))\n",
        "else:\n",
        "    print((-b+math.sqrt(b*b-4*a*c))/(2*a),(b-math.sqrt(b*b-4*a*c)/(-2*a)))"
      ]
    }
  ]
}
